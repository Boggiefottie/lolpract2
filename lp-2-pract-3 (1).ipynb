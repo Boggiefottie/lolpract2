{
 "cells": [
  {
   "cell_type": "code",
   "execution_count": 2,
   "id": "b3ad6f4e-a991-4798-90b9-34d0e366d9df",
   "metadata": {},
   "outputs": [
    {
     "name": "stdin",
     "output_type": "stream",
     "text": [
      "Enter the array elements separated by space:  9 5 10 12 3\n"
     ]
    },
    {
     "name": "stdout",
     "output_type": "stream",
     "text": [
      "Sorted array: [3, 5, 9, 10, 12]\n"
     ]
    }
   ],
   "source": [
    "def selectionSort(arr):\n",
    "    for i in range(len(arr)):\n",
    "        min_idx = i  # Initialize the index of the minimum element\n",
    "        for j in range(i + 1, len(arr)):\n",
    "            if arr[j] < arr[min_idx]:\n",
    "                min_idx = j\n",
    "        arr[i], arr[min_idx] = arr[min_idx], arr[i]  # Swap the found minimum element with the first element\n",
    "    return arr\n",
    "\n",
    "# Input array from the user\n",
    "arr = list(map(int, input(\"Enter the array elements separated by space: \").split()))\n",
    "\n",
    "# Call the selectionSort function and print the sorted array\n",
    "print(\"Sorted array:\", selectionSort(arr))\n"
   ]
  },
  {
   "cell_type": "code",
   "execution_count": null,
   "id": "a52f8494-0428-42e8-a696-025d2b066974",
   "metadata": {},
   "outputs": [],
   "source": []
  }
 ],
 "metadata": {
  "kernelspec": {
   "display_name": "Python 3 (ipykernel)",
   "language": "python",
   "name": "python3"
  },
  "language_info": {
   "codemirror_mode": {
    "name": "ipython",
    "version": 3
   },
   "file_extension": ".py",
   "mimetype": "text/x-python",
   "name": "python",
   "nbconvert_exporter": "python",
   "pygments_lexer": "ipython3",
   "version": "3.11.7"
  }
 },
 "nbformat": 4,
 "nbformat_minor": 5
}
