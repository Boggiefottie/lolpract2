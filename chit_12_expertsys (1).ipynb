{
 "cells": [
  {
   "cell_type": "code",
   "execution_count": null,
   "id": "fa06ea33-d5b4-4032-be36-b52916eb5fb8",
   "metadata": {},
   "outputs": [],
   "source": [
    "information = {}\n",
    "\n",
    "# Add information\n",
    "def add_info(key, value):\n",
    "    information[key] = value\n",
    "\n",
    "# Get information\n",
    "def get_info(key):\n",
    "    return information.get(key, \"Information not found.\")\n",
    "\n",
    "# Remove information\n",
    "def remove_info(key):\n",
    "    if key in information:\n",
    "        del information[key]\n",
    "        print(\"Information removed successfully.\")\n",
    "    else:\n",
    "        print(\"Information not found.\")\n",
    "\n",
    "# Example usage:\n",
    "def main():\n",
    "    add_info(input(\"Enter key: \"), input(\"Enter value: \"))\n",
    "    add_info(input(\"Enter key: \"), input(\"Enter value: \"))\n",
    "    add_info(input(\"Enter key: \"), input(\"Enter value: \"))\n",
    "\n",
    "    print(\"Name:\", get_info(input(\"Enter key to retrieve: \")))\n",
    "    print(\"Age:\", get_info(input(\"Enter key to retrieve: \")))\n",
    "    print(\"City:\", get_info(input(\"Enter key to retrieve: \")))\n",
    "\n",
    "    remove_info(input(\"Enter key to remove: \"))\n",
    "\n",
    "    print(\"Age:\", get_info(input(\"Enter key to retrieve after removal: \")))\n",
    "\n",
    "if __name__ == \"__main__\":\n",
    "    main()\n"
   ]
  }
 ],
 "metadata": {
  "kernelspec": {
   "display_name": "Python 3 (ipykernel)",
   "language": "python",
   "name": "python3"
  },
  "language_info": {
   "codemirror_mode": {
    "name": "ipython",
    "version": 3
   },
   "file_extension": ".py",
   "mimetype": "text/x-python",
   "name": "python",
   "nbconvert_exporter": "python",
   "pygments_lexer": "ipython3",
   "version": "3.11.7"
  }
 },
 "nbformat": 4,
 "nbformat_minor": 5
}
