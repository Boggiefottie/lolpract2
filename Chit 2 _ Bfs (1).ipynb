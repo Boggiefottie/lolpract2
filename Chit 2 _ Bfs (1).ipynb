{
 "cells": [
  {
   "cell_type": "code",
   "execution_count": 1,
   "id": "c83d7d23",
   "metadata": {},
   "outputs": [
    {
     "name": "stdout",
     "output_type": "stream",
     "text": [
      "A\n",
      "B\n",
      "C\n",
      "D\n",
      "E\n",
      "F\n"
     ]
    }
   ],
   "source": [
    "from collections import deque\n",
    "\n",
    "def bfs(graph, start):\n",
    "    visited = set()                 # Set to keep track of visited nodes\n",
    "    queue = deque([start])         # Initialize queue with the starting node\n",
    "    \n",
    "    while queue:                   # Loop until the queue is empty\n",
    "        node = queue.popleft()     # Dequeue a node from the front of the queue\n",
    "        if node not in visited:    # If the node has not been visited yet\n",
    "            print(node)            # Process the node (in this case, just printing it)\n",
    "            visited.add(node)      # Mark the node as visited\n",
    "            \n",
    "            for neighbor in graph[node]:  # Enqueue all the neighbors of the node\n",
    "                if neighbor not in visited:\n",
    "                    queue.append(neighbor)\n",
    "\n",
    "# Example graph represented as an adjacency list\n",
    "graph = {\n",
    "    'A': ['B', 'C'],\n",
    "    'B': ['A', 'D', 'E'],\n",
    "    'C': ['A', 'E'],\n",
    "    'D': ['B'],\n",
    "    'E': ['B', 'F','C'],\n",
    "    'F': ['E']\n",
    "}\n",
    "\n",
    "# Starting node for BFS\n",
    "start = 'A'\n",
    "\n",
    "# Call BFS function\n",
    "bfs(graph, start)"
   ]
  },
  {
   "cell_type": "code",
   "execution_count": null,
   "id": "46d141b6-a1bb-4b8a-a8cc-5d9cd2e5a164",
   "metadata": {},
   "outputs": [],
   "source": []
  }
 ],
 "metadata": {
  "kernelspec": {
   "display_name": "Python 3 (ipykernel)",
   "language": "python",
   "name": "python3"
  },
  "language_info": {
   "codemirror_mode": {
    "name": "ipython",
    "version": 3
   },
   "file_extension": ".py",
   "mimetype": "text/x-python",
   "name": "python",
   "nbconvert_exporter": "python",
   "pygments_lexer": "ipython3",
   "version": "3.11.7"
  }
 },
 "nbformat": 4,
 "nbformat_minor": 5
}
